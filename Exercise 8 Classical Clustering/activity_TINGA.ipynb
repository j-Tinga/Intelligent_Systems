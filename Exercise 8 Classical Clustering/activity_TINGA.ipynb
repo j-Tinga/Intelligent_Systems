{
 "cells": [
  {
   "cell_type": "markdown",
   "metadata": {},
   "source": [
    "# Clustering Activity"
   ]
  },
  {
   "cell_type": "code",
   "execution_count": 38,
   "metadata": {},
   "outputs": [],
   "source": [
    "# Import necessary libraries\n",
    "from sklearn.datasets import make_blobs\n",
    "from sklearn.cluster import KMeans, AgglomerativeClustering, SpectralClustering\n",
    "from sklearn.metrics import adjusted_rand_score\n",
    "import skfuzzy.cluster as fuzz\n",
    "import numpy as np\n",
    "\n",
    "# Generate a hypothetical dataset\n",
    "X, y_true = make_blobs(n_samples=300, centers=4, random_state=42, cluster_std=1.0)"
   ]
  },
  {
   "cell_type": "markdown",
   "metadata": {},
   "source": [
    "Exercise: Evaluate four clustering algorithms (K-Means, Fuzzy C-Means, Spectral, and Agglomerative)\n",
    "1. Apply each clustering algorithm to the dataset where:\n",
    "- cluster_count = 4\n",
    "- random_state = 42 (where applicable)\n",
    "- do not specify affinity, metric, algo, init, linkage (if applicable)\n",
    "2. Use the **Adjusted Rand index** and **Silhouette Score** to evaluate the clustering performance.\n",
    "3. Compare the performance of the algorithms based on the aforementioned metrics and decide which algorithm is best suited for the data given."
   ]
  },
  {
   "cell_type": "code",
   "execution_count": 39,
   "metadata": {},
   "outputs": [
    {
     "name": "stdout",
     "output_type": "stream",
     "text": [
      "Adjusted Rand Index for K-Means:  0.9910811504997546\n",
      "Silhouette Score for K-Means:  0.7915830011443039\n"
     ]
    }
   ],
   "source": [
    "kmeans = KMeans(n_clusters=4, random_state=42, n_init = 10)\n",
    "kmeans.fit(X)\n",
    "y_pred_kmeans = kmeans.predict(X)\n",
    "print(\"Adjusted Rand Index for K-Means: \", adjusted_rand_score(y_true, y_pred_kmeans))\n",
    "sill_kmeans = silhouette_score(X, kmeans.labels_)\n",
    "print(\"Silhouette Score for K-Means: \", sill_kmeans)"
   ]
  },
  {
   "cell_type": "code",
   "execution_count": 40,
   "metadata": {},
   "outputs": [
    {
     "name": "stdout",
     "output_type": "stream",
     "text": [
      "Adjusted Rand Index for Fuzzy C-Means:  0.9910811504997546\n",
      "Silhouette Score for Fuzzy C-Means:  0.7915830011443039\n"
     ]
    }
   ],
   "source": [
    "fcm_centers, fcm_labels, _, _, _, _, _ = fuzz.cmeans(X.T, 4, m=2, error=0.005, maxiter=1000, init=None)\n",
    "y_pred_fcm = np.argmax(fcm_labels, axis=0)\n",
    "print(\"Adjusted Rand Index for Fuzzy C-Means: \", adjusted_rand_score(y_true, y_pred_fcm))\n",
    "sill_fcm = silhouette_score(X, y_pred_fcm)\n",
    "print(\"Silhouette Score for Fuzzy C-Means: \", sill_fcm)"
   ]
  },
  {
   "cell_type": "code",
   "execution_count": 41,
   "metadata": {},
   "outputs": [
    {
     "name": "stdout",
     "output_type": "stream",
     "text": [
      "Adjusted Rand Index for Spectral Clustering:  0.9910811504997546\n",
      "Silhouette Score for Spectral Clustering:  0.7915830011443039\n"
     ]
    }
   ],
   "source": [
    "spectral = SpectralClustering(n_clusters=4, assign_labels='discretize', random_state=42)\n",
    "y_pred_spectral = spectral.fit_predict(X)\n",
    "print(\"Adjusted Rand Index for Spectral Clustering: \", adjusted_rand_score(y_true, y_pred_spectral))\n",
    "sill_spectral = silhouette_score(X, y_pred_spectral)\n",
    "print(\"Silhouette Score for Spectral Clustering: \", sill_spectral)"
   ]
  },
  {
   "cell_type": "code",
   "execution_count": 43,
   "metadata": {},
   "outputs": [
    {
     "name": "stdout",
     "output_type": "stream",
     "text": [
      "Adjusted Rand Index for Agglomerative Clustering:  0.9910811504997546\n",
      "Silhouette Score for Agglomerative Clustering:  0.7915830011443039\n"
     ]
    }
   ],
   "source": [
    "agglo = AgglomerativeClustering(n_clusters=4)\n",
    "y_pred_agglo = agglo.fit_predict(X)\n",
    "print(\"Adjusted Rand Index for Agglomerative Clustering: \", adjusted_rand_score(y_true, y_pred_agglo))\n",
    "sill_agglo = silhouette_score(X, y_pred_agglo)\n",
    "print(\"Silhouette Score for Agglomerative Clustering: \", sill_agglo)"
   ]
  },
  {
   "cell_type": "code",
   "execution_count": null,
   "metadata": {},
   "outputs": [],
   "source": []
  }
 ],
 "metadata": {
  "kernelspec": {
   "display_name": "Python 3 (ipykernel)",
   "language": "python",
   "name": "python3"
  },
  "language_info": {
   "codemirror_mode": {
    "name": "ipython",
    "version": 3
   },
   "file_extension": ".py",
   "mimetype": "text/x-python",
   "name": "python",
   "nbconvert_exporter": "python",
   "pygments_lexer": "ipython3",
   "version": "3.11.5"
  }
 },
 "nbformat": 4,
 "nbformat_minor": 4
}
